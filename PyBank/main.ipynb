{
 "cells": [
  {
   "cell_type": "code",
   "execution_count": 137,
   "metadata": {},
   "outputs": [],
   "source": [
    "# Import the pathlib and csv library\n",
    "from pathlib import Path\n",
    "import csv\n",
    "\n",
    "# Set the file path\n",
    "csvpath = Path(r'C:\\Users\\Notebook3\\Rutgers\\BootCamp\\01-homework\\02-Python\\Instructions\\PyBank\\Resources\\budget_data.csv')\n",
    "\n",
    "csv_output= Path('..//PyBank/homework.txt')\n",
    "\n",
    "#Setting initial value of the counter to zero\n",
    "date_Count  = 0\n",
    "total_Profit = 0\n",
    "change_profit = []\n",
    "profit_List = []\n",
    "\n",
    "\n"
   ]
  },
  {
   "cell_type": "code",
   "execution_count": 138,
   "metadata": {},
   "outputs": [],
   "source": [
    "\n",
    "\n",
    "\n",
    "# Initialize line_num variable\n",
    "line_num = 0\n",
    "\n",
    "# Open the input path as a file object\n",
    "with open(csvpath, 'r') as csvfile:\n",
    "\n",
    "       # Pass in the csv file to the csv.reader() function\n",
    "    # (with ',' as the delmiter/separator) and return the csvreader object\n",
    "    csvreader = csv.reader(csvfile, delimiter=',')\n",
    "    \n",
    "    # Go to the next row from the start of the file\n",
    "    # (which is often the first row/header) and iterate line_num by 1\n",
    "    header = next(csvreader)\n",
    "    line_num += 1\n",
    "   \n",
    "      # Read each row of data after the header\n",
    "    for row in csvreader:\n",
    "        date = str(row[0])\n",
    "        profits = int(row[1])\n",
    "        # Append the row salary value to the list of dates and profits\n",
    "        profit_List.append(date)\n",
    "        profit_List.append(profits)\n",
    "        #iterating through the whole file\n",
    "        ##for row count  and totoal profits in open profit_List:\n",
    "        total_Profit += profits\n",
    "        date_Count += 1\n",
    "\n",
    "    \n",
    "\n",
    "        "
   ]
  },
  {
   "cell_type": "code",
   "execution_count": 139,
   "metadata": {},
   "outputs": [],
   "source": [
    "# Initialize line_num variable\n",
    "line_num = 0\n",
    "\n",
    "# Open the input path as a file object\n",
    "\n",
    "with open(csvpath, 'r') as csvfile:\n",
    "\n",
    "       # Pass in the csv file to the csv.reader() function\n",
    "    # (with ',' as the delmiter/separator) and return the csvreader object\n",
    "    csvreader = csv.reader(csvfile, delimiter=',')\n",
    "    \n",
    "    # Go to the next row from the start of the file\n",
    "    # (which is often the first row/header) and iterate line_num by 1\n",
    "    header = next(csvreader)\n",
    "    line_num += 1\n",
    "#\n",
    "#read rows from file into change_profit list \n",
    "#and sort row to use high and low values\n",
    "    for row in csvreader:\n",
    "       profits = int(row[1])\n",
    "       change_profit.append(profits)\n",
    "       change_profit.sort()\n",
    "high_profit = change_profit[85]\n",
    "low_profit = change_profit[0]\n"
   ]
  },
  {
   "cell_type": "code",
   "execution_count": 140,
   "metadata": {},
   "outputs": [],
   "source": [
    "\n",
    "\n",
    "\n",
    "\n",
    "#Calculate Average Change\n",
    "change_profit = round(total_Profit/date_Count)\n",
    "\n",
    "\n",
    "\n"
   ]
  },
  {
   "cell_type": "code",
   "execution_count": 141,
   "metadata": {},
   "outputs": [],
   "source": [
    "##Export to the text file\n",
    "with open(csv_output, \"w\") as output:\n",
    "    output.write(f'Financial Analysis\\n')\n",
    "    output.write(f'---------------------\\n')\n",
    "    output.write(f'Total Months: {date_Count}\\n')\n",
    "    output.write(f'Net Profit: ${total_Profit}\\n')\n",
    "    output.write(f'Average Change: ${change_profit}\\n')\n",
    "    \n",
    "    output.write(f'Greatest Increase in Profits: ${high_profit}\\n')\n",
    "    output.write(f'Greatest Decrease in Profits: ${low_profit}\\n')\n"
   ]
  }
 ],
 "metadata": {
  "interpreter": {
   "hash": "0a6b53b808be22ed9015cf5d408376640e4deef689ef9b186ab992a818d0bc32"
  },
  "kernelspec": {
   "display_name": "Python 3.7.11 ('dev')",
   "language": "python",
   "name": "python3"
  },
  "language_info": {
   "codemirror_mode": {
    "name": "ipython",
    "version": 3
   },
   "file_extension": ".py",
   "mimetype": "text/x-python",
   "name": "python",
   "nbconvert_exporter": "python",
   "pygments_lexer": "ipython3",
   "version": "3.7.11"
  },
  "orig_nbformat": 4
 },
 "nbformat": 4,
 "nbformat_minor": 2
}
